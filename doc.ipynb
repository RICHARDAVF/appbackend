{
 "cells": [
  {
   "cell_type": "markdown",
   "metadata": {},
   "source": [
    "## API PARA GUIA DE REMISION\n",
    "\n",
    "PETICIÓN POST.\n",
    "\n",
    "Esta peticion es para generar el registro de la guia de remision y posterior a ello el documento \n",
    "\n",
    "\n",
    "\n",
    "\n"
   ]
  },
  {
   "cell_type": "markdown",
   "metadata": {},
   "source": [
    "url :http://noisystems.dyndns.org:3030/api/fact/\n",
    "\n",
    "headers:\n",
    "\n",
    "\tContent-Type:application/json\n",
    "\n",
    "\tAuthorization:Token 'Aquí ira tus tokens de accesos'\n",
    "body:\n",
    "\n",
    "\tAquí insertar el json a enviar\n",
    "\n",
    "Respetar el formato de las fechas\n",
    "\n",
    "Guardar la serie y el numero de documento que retornara la peticion\n"
   ]
  },
  {
   "cell_type": "markdown",
   "metadata": {},
   "source": [
    "\n",
    "PETICIÓN GET.\n",
    "\n",
    "url:http://noisystems.dyndns.org:3030/api/fact/pdf/serie/numero_documento/ \n",
    "\n",
    "reemplazar la serie y el numero de documento generado en la primera peticion\n",
    "\n",
    "headers:\n",
    "\n",
    "    Content-Type:application/json\n",
    "\n",
    "    Authorization:Token 'Aquí ira tus tokens de accesos'\n",
    "Esto retornara el documento generado en formato base64 "
   ]
  },
  {
   "cell_type": "markdown",
   "metadata": {},
   "source": [
    "PETICION GET \n",
    "\n",
    "Para anular el guia \n",
    "\n",
    "url: http://noisystems.dyndns.org:3030/api/guia/anulacion/serie/numero_documento/ \n",
    "\n",
    "reemplazar la serie y el numero de documento generado en la primera peticion\n",
    "\n",
    "headers:\n",
    "\n",
    "    Content-Type:application/json\n",
    "\n",
    "    Authorization:Token 'Aquí ira tus tokens de accesos'\n",
    "Esto retornara una respuesta json"
   ]
  },
  {
   "cell_type": "code",
   "execution_count": null,
   "metadata": {},
   "outputs": [],
   "source": []
  }
 ],
 "metadata": {
  "kernelspec": {
   "display_name": "Python 3",
   "language": "python",
   "name": "python3"
  },
  "language_info": {
   "codemirror_mode": {
    "name": "ipython",
    "version": 3
   },
   "file_extension": ".py",
   "mimetype": "text/x-python",
   "name": "python",
   "nbconvert_exporter": "python",
   "pygments_lexer": "ipython3",
   "version": "3.11.4"
  }
 },
 "nbformat": 4,
 "nbformat_minor": 2
}
